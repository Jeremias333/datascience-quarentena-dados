{
  "nbformat": 4,
  "nbformat_minor": 0,
  "metadata": {
    "colab": {
      "name": "QuaretenaDadosFilmes.ipynb",
      "provenance": [],
      "collapsed_sections": [],
      "toc_visible": true,
      "authorship_tag": "ABX9TyNwvCBa1XsU7h6t0n9Ly0kh",
      "include_colab_link": true
    },
    "kernelspec": {
      "name": "python3",
      "display_name": "Python 3"
    }
  },
  "cells": [
    {
      "cell_type": "markdown",
      "metadata": {
        "id": "view-in-github",
        "colab_type": "text"
      },
      "source": [
        "<a href=\"https://colab.research.google.com/github/Jeremias333/datascience-quarentena-dados/blob/master/QuaretenaDadosFilmes.ipynb\" target=\"_parent\"><img src=\"https://colab.research.google.com/assets/colab-badge.svg\" alt=\"Open In Colab\"/></a>"
      ]
    },
    {
      "cell_type": "markdown",
      "metadata": {
        "id": "e7q_O2yrQh9L",
        "colab_type": "text"
      },
      "source": [
        "### Aula 01"
      ]
    },
    {
      "cell_type": "code",
      "metadata": {
        "id": "BNQFcI2rZcCO",
        "colab_type": "code",
        "outputId": "65997861-c68e-429f-db22-bca69344583e",
        "colab": {
          "base_uri": "https://localhost:8080/",
          "height": 206
        }
      },
      "source": [
        "import pandas as pd\n",
        "#read_csv return a dataframe, that is a structure of data for better visualization.\n",
        "movies = pd.read_csv(\"./database/movies.csv\")\n",
        "movies.head()\n",
        "#to see documentation add ? behind of variable and then control+enter. ex: ?filmes.head()"
      ],
      "execution_count": 13,
      "outputs": [
        {
          "output_type": "execute_result",
          "data": {
            "text/html": [
              "<div>\n",
              "<style scoped>\n",
              "    .dataframe tbody tr th:only-of-type {\n",
              "        vertical-align: middle;\n",
              "    }\n",
              "\n",
              "    .dataframe tbody tr th {\n",
              "        vertical-align: top;\n",
              "    }\n",
              "\n",
              "    .dataframe thead th {\n",
              "        text-align: right;\n",
              "    }\n",
              "</style>\n",
              "<table border=\"1\" class=\"dataframe\">\n",
              "  <thead>\n",
              "    <tr style=\"text-align: right;\">\n",
              "      <th></th>\n",
              "      <th>movieId</th>\n",
              "      <th>title</th>\n",
              "      <th>genres</th>\n",
              "    </tr>\n",
              "  </thead>\n",
              "  <tbody>\n",
              "    <tr>\n",
              "      <th>0</th>\n",
              "      <td>1</td>\n",
              "      <td>Toy Story (1995)</td>\n",
              "      <td>Adventure|Animation|Children|Comedy|Fantasy</td>\n",
              "    </tr>\n",
              "    <tr>\n",
              "      <th>1</th>\n",
              "      <td>2</td>\n",
              "      <td>Jumanji (1995)</td>\n",
              "      <td>Adventure|Children|Fantasy</td>\n",
              "    </tr>\n",
              "    <tr>\n",
              "      <th>2</th>\n",
              "      <td>3</td>\n",
              "      <td>Grumpier Old Men (1995)</td>\n",
              "      <td>Comedy|Romance</td>\n",
              "    </tr>\n",
              "    <tr>\n",
              "      <th>3</th>\n",
              "      <td>4</td>\n",
              "      <td>Waiting to Exhale (1995)</td>\n",
              "      <td>Comedy|Drama|Romance</td>\n",
              "    </tr>\n",
              "    <tr>\n",
              "      <th>4</th>\n",
              "      <td>5</td>\n",
              "      <td>Father of the Bride Part II (1995)</td>\n",
              "      <td>Comedy</td>\n",
              "    </tr>\n",
              "  </tbody>\n",
              "</table>\n",
              "</div>"
            ],
            "text/plain": [
              "   movieId  ...                                       genres\n",
              "0        1  ...  Adventure|Animation|Children|Comedy|Fantasy\n",
              "1        2  ...                   Adventure|Children|Fantasy\n",
              "2        3  ...                               Comedy|Romance\n",
              "3        4  ...                         Comedy|Drama|Romance\n",
              "4        5  ...                                       Comedy\n",
              "\n",
              "[5 rows x 3 columns]"
            ]
          },
          "metadata": {
            "tags": []
          },
          "execution_count": 13
        }
      ]
    },
    {
      "cell_type": "code",
      "metadata": {
        "id": "9MiiIR6Vd_rd",
        "colab_type": "code",
        "colab": {}
      },
      "source": [
        "rating = pd.read_csv(\"./database/ratings.csv\")\n",
        "# rating.head()\n",
        "# rating.shape\n",
        "# len(rating)\n",
        "# rating.describe()\n",
        "# rating.query(\"movieId==1\")[\"rating\"].mean()\n",
        "# rating.columns = [\"user\", \"movie\", \"rating\", \"timestamp\"]\n",
        "# rating.describe()\n",
        "\n",
        "# grade_by_average = rating.groupby(\"movie\")[\"rating\"].mean()\n",
        "\n",
        "# rating.describe\n",
        "# movies.head()\n",
        "\n",
        "import matplotlib.pyplot as plt\n",
        "\n",
        "# name_movie = movies.query(\"movieId==1\")[\"title\"]\n",
        "# print (name_movie)\n",
        "\n",
        "# qttMoviesNor = len(movies)\n",
        "# qttMoviesRat = len(rating)\n",
        "# moviesNoRat = \n",
        "\n",
        "# for y in range (rating.size):\n",
        "#   if rating.query(\"movieId==\"+str(y))[\"rating\"].isNull():\n",
        "#     print(rating.query(\"movieId==\"+str(y))[\"movieId\"])\n",
        "#     # moviesNoRat.add(rating.query(\"movie==\"+str(y))[\"movie\"])\n",
        "#     break\n",
        "\n",
        "\n",
        "\n",
        "\n",
        "\n",
        "# rating.query(\"movie==1\")[\"rating\"].plot(kind=\"hist\", title=\"Rating of \"+name_movie)\n",
        "# plt.title(\"Rating of \"+movies.query(\"movieId==1\")[\"title\"])\n",
        "# plt.show()\n",
        "\n",
        "\n"
      ],
      "execution_count": 0,
      "outputs": []
    },
    {
      "cell_type": "markdown",
      "metadata": {
        "id": "SjX91-11Lz9d",
        "colab_type": "text"
      },
      "source": [
        "Todos os Desafios da Aula 01 abaixo:"
      ]
    },
    {
      "cell_type": "code",
      "metadata": {
        "id": "3rOaqISV7Pcv",
        "colab_type": "code",
        "outputId": "433bbf36-588b-4fe4-c399-dd3720c7adb8",
        "colab": {
          "base_uri": "https://localhost:8080/",
          "height": 470
        }
      },
      "source": [
        "ratingAllMean = rating.groupby(\"movieId\")[\"rating\"].mean()\n",
        "movieWithMean = movies.join(ratingAllMean, on=\"movieId\")\n",
        "movieWithMean.head()\n",
        "\n",
        "#desafio 2\n",
        "movieWithMean.columns = [\"movieId\", \"title\", \"genres\", \"rating_mean\"] \n",
        "\n",
        "#desafio 1\n",
        "withoutRating = movieWithMean[\"rating_mean\"].isnull()\n",
        "movieWithMean[withoutRating].count()[\"title\"]\n",
        "\n",
        "#desafio 3\n",
        "ratingCount = rating.groupby(\"movieId\")[\"rating\"].count()\n",
        "ratingCount.head()\n",
        "\n",
        "movieWithMeanAndRating = movieWithMean.join(ratingCount, on=\"movieId\")\n",
        "movieWithMeanAndRating = movieWithMeanAndRating.rename(columns={\"rating\" : \"total_of_rating\"})\n",
        "# movieWithMeanAndRating.head()\n",
        "\n",
        "#desafio 4\n",
        "movieWithMeanAndRating[\"rating_mean\"] = movieWithMeanAndRating[\"rating_mean\"].round(2)\n",
        "movieWithMeanAndRating\n",
        "\n",
        "#desafio 5\n",
        "genresDf = movieWithMeanAndRating.genres.str.get_dummies(\"|\")\n",
        "genres = genresDf.columns.to_list()\n",
        "genres\n",
        "\n",
        "#desafio 6\n",
        "totalMoviesGenres = movieWithMeanAndRating.genres.str.get_dummies().sum()\n",
        "totalMoviesGenres\n",
        "\n",
        "#desafio 7\n",
        "totalMoviesGenres.sort_values(ascending=False).plot(kind='bar', figsize=(16, 6))\n",
        "\n"
      ],
      "execution_count": 16,
      "outputs": [
        {
          "output_type": "execute_result",
          "data": {
            "text/plain": [
              "<matplotlib.axes._subplots.AxesSubplot at 0x7fd10262a8d0>"
            ]
          },
          "metadata": {
            "tags": []
          },
          "execution_count": 16
        },
        {
          "output_type": "display_data",
          "data": {
            "image/png": "[encoded data removed]",
            "text/plain": [
              "<Figure size 1152x432 with 1 Axes>"
            ]
          },
          "metadata": {
            "tags": [],
            "needs_background": "light"
          }
        }
      ]
    },
    {
      "cell_type": "markdown",
      "metadata": {
        "id": "-meh6Yj_QXL6",
        "colab_type": "text"
      },
      "source": [
        "### Aula 02"
      ]
    },
    {
      "cell_type": "code",
      "metadata": {
        "id": "wUuFQ-cfQgGM",
        "colab_type": "code",
        "colab": {}
      },
      "source": [
        "import pandas as pd\n",
        "import matplotlib.pyplot as plt\n",
        "#read_csv return a dataframe, that is a structure of data for better visualization.\n",
        "movies = pd.read_csv(\"./database/movies.csv\")\n",
        "rating = pd.read_csv(\"./database/ratings.csv\")"
      ],
      "execution_count": 0,
      "outputs": []
    },
    {
      "cell_type": "code",
      "metadata": {
        "id": "_KpwkbxgQ9zi",
        "colab_type": "code",
        "colab": {
          "base_uri": "https://localhost:8080/",
          "height": 424
        },
        "outputId": "ad0ffd33-57ff-4737-d859-b75a0a527d58"
      },
      "source": [
        ""
      ],
      "execution_count": 18,
      "outputs": [
        {
          "output_type": "execute_result",
          "data": {
            "text/html": [
              "<div>\n",
              "<style scoped>\n",
              "    .dataframe tbody tr th:only-of-type {\n",
              "        vertical-align: middle;\n",
              "    }\n",
              "\n",
              "    .dataframe tbody tr th {\n",
              "        vertical-align: top;\n",
              "    }\n",
              "\n",
              "    .dataframe thead th {\n",
              "        text-align: right;\n",
              "    }\n",
              "</style>\n",
              "<table border=\"1\" class=\"dataframe\">\n",
              "  <thead>\n",
              "    <tr style=\"text-align: right;\">\n",
              "      <th></th>\n",
              "      <th>userId</th>\n",
              "      <th>movieId</th>\n",
              "      <th>rating</th>\n",
              "      <th>timestamp</th>\n",
              "    </tr>\n",
              "  </thead>\n",
              "  <tbody>\n",
              "    <tr>\n",
              "      <th>0</th>\n",
              "      <td>1</td>\n",
              "      <td>1</td>\n",
              "      <td>4.0</td>\n",
              "      <td>964982703</td>\n",
              "    </tr>\n",
              "    <tr>\n",
              "      <th>1</th>\n",
              "      <td>1</td>\n",
              "      <td>3</td>\n",
              "      <td>4.0</td>\n",
              "      <td>964981247</td>\n",
              "    </tr>\n",
              "    <tr>\n",
              "      <th>2</th>\n",
              "      <td>1</td>\n",
              "      <td>6</td>\n",
              "      <td>4.0</td>\n",
              "      <td>964982224</td>\n",
              "    </tr>\n",
              "    <tr>\n",
              "      <th>3</th>\n",
              "      <td>1</td>\n",
              "      <td>47</td>\n",
              "      <td>5.0</td>\n",
              "      <td>964983815</td>\n",
              "    </tr>\n",
              "    <tr>\n",
              "      <th>4</th>\n",
              "      <td>1</td>\n",
              "      <td>50</td>\n",
              "      <td>5.0</td>\n",
              "      <td>964982931</td>\n",
              "    </tr>\n",
              "    <tr>\n",
              "      <th>...</th>\n",
              "      <td>...</td>\n",
              "      <td>...</td>\n",
              "      <td>...</td>\n",
              "      <td>...</td>\n",
              "    </tr>\n",
              "    <tr>\n",
              "      <th>100831</th>\n",
              "      <td>610</td>\n",
              "      <td>166534</td>\n",
              "      <td>4.0</td>\n",
              "      <td>1493848402</td>\n",
              "    </tr>\n",
              "    <tr>\n",
              "      <th>100832</th>\n",
              "      <td>610</td>\n",
              "      <td>168248</td>\n",
              "      <td>5.0</td>\n",
              "      <td>1493850091</td>\n",
              "    </tr>\n",
              "    <tr>\n",
              "      <th>100833</th>\n",
              "      <td>610</td>\n",
              "      <td>168250</td>\n",
              "      <td>5.0</td>\n",
              "      <td>1494273047</td>\n",
              "    </tr>\n",
              "    <tr>\n",
              "      <th>100834</th>\n",
              "      <td>610</td>\n",
              "      <td>168252</td>\n",
              "      <td>5.0</td>\n",
              "      <td>1493846352</td>\n",
              "    </tr>\n",
              "    <tr>\n",
              "      <th>100835</th>\n",
              "      <td>610</td>\n",
              "      <td>170875</td>\n",
              "      <td>3.0</td>\n",
              "      <td>1493846415</td>\n",
              "    </tr>\n",
              "  </tbody>\n",
              "</table>\n",
              "<p>100836 rows × 4 columns</p>\n",
              "</div>"
            ],
            "text/plain": [
              "        userId  movieId  rating   timestamp\n",
              "0            1        1     4.0   964982703\n",
              "1            1        3     4.0   964981247\n",
              "2            1        6     4.0   964982224\n",
              "3            1       47     5.0   964983815\n",
              "4            1       50     5.0   964982931\n",
              "...        ...      ...     ...         ...\n",
              "100831     610   166534     4.0  1493848402\n",
              "100832     610   168248     5.0  1493850091\n",
              "100833     610   168250     5.0  1494273047\n",
              "100834     610   168252     5.0  1493846352\n",
              "100835     610   170875     3.0  1493846415\n",
              "\n",
              "[100836 rows x 4 columns]"
            ]
          },
          "metadata": {
            "tags": []
          },
          "execution_count": 18
        }
      ]
    }
  ]
}