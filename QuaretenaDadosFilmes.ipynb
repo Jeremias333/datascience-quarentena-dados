{
  "nbformat": 4,
  "nbformat_minor": 0,
  "metadata": {
    "colab": {
      "name": "QuaretenaDadosFilmes.ipynb",
      "provenance": [],
      "collapsed_sections": [
        "e7q_O2yrQh9L"
      ],
      "toc_visible": true,
      "authorship_tag": "ABX9TyPo0o/o0a8h7dvYECIIVROE",
      "include_colab_link": true
    },
    "kernelspec": {
      "name": "python3",
      "display_name": "Python 3"
    }
  },
  "cells": [
    {
      "cell_type": "markdown",
      "metadata": {
        "id": "view-in-github",
        "colab_type": "text"
      },
      "source": [
        "<a href=\"https://colab.research.google.com/github/Jeremias333/datascience-quarentena-dados/blob/master/QuaretenaDadosFilmes.ipynb\" target=\"_parent\"><img src=\"https://colab.research.google.com/assets/colab-badge.svg\" alt=\"Open In Colab\"/></a>"
      ]
    },
    {
      "cell_type": "markdown",
      "metadata": {
        "id": "e7q_O2yrQh9L",
        "colab_type": "text"
      },
      "source": [
        "### Aula 01"
      ]
    },
    {
      "cell_type": "code",
      "metadata": {
        "id": "BNQFcI2rZcCO",
        "colab_type": "code",
        "colab": {
          "base_uri": "https://localhost:8080/",
          "height": 206
        },
        "outputId": "029707ca-12ce-4b53-d7b1-b2e974ea441c"
      },
      "source": [
        "import pandas as pd\n",
        "#read_csv return a dataframe, that is a structure of data for better visualization.\n",
        "movies = pd.read_csv(\"./database/movies.csv\")\n",
        "movies.head()\n",
        "#to see documentation add ? behind of variable and then control+enter. ex: ?filmes.head()"
      ],
      "execution_count": 3,
      "outputs": [
        {
          "output_type": "execute_result",
          "data": {
            "text/html": [
              "<div>\n",
              "<style scoped>\n",
              "    .dataframe tbody tr th:only-of-type {\n",
              "        vertical-align: middle;\n",
              "    }\n",
              "\n",
              "    .dataframe tbody tr th {\n",
              "        vertical-align: top;\n",
              "    }\n",
              "\n",
              "    .dataframe thead th {\n",
              "        text-align: right;\n",
              "    }\n",
              "</style>\n",
              "<table border=\"1\" class=\"dataframe\">\n",
              "  <thead>\n",
              "    <tr style=\"text-align: right;\">\n",
              "      <th></th>\n",
              "      <th>movieId</th>\n",
              "      <th>title</th>\n",
              "      <th>genres</th>\n",
              "    </tr>\n",
              "  </thead>\n",
              "  <tbody>\n",
              "    <tr>\n",
              "      <th>0</th>\n",
              "      <td>1</td>\n",
              "      <td>Toy Story (1995)</td>\n",
              "      <td>Adventure|Animation|Children|Comedy|Fantasy</td>\n",
              "    </tr>\n",
              "    <tr>\n",
              "      <th>1</th>\n",
              "      <td>2</td>\n",
              "      <td>Jumanji (1995)</td>\n",
              "      <td>Adventure|Children|Fantasy</td>\n",
              "    </tr>\n",
              "    <tr>\n",
              "      <th>2</th>\n",
              "      <td>3</td>\n",
              "      <td>Grumpier Old Men (1995)</td>\n",
              "      <td>Comedy|Romance</td>\n",
              "    </tr>\n",
              "    <tr>\n",
              "      <th>3</th>\n",
              "      <td>4</td>\n",
              "      <td>Waiting to Exhale (1995)</td>\n",
              "      <td>Comedy|Drama|Romance</td>\n",
              "    </tr>\n",
              "    <tr>\n",
              "      <th>4</th>\n",
              "      <td>5</td>\n",
              "      <td>Father of the Bride Part II (1995)</td>\n",
              "      <td>Comedy</td>\n",
              "    </tr>\n",
              "  </tbody>\n",
              "</table>\n",
              "</div>"
            ],
            "text/plain": [
              "   movieId  ...                                       genres\n",
              "0        1  ...  Adventure|Animation|Children|Comedy|Fantasy\n",
              "1        2  ...                   Adventure|Children|Fantasy\n",
              "2        3  ...                               Comedy|Romance\n",
              "3        4  ...                         Comedy|Drama|Romance\n",
              "4        5  ...                                       Comedy\n",
              "\n",
              "[5 rows x 3 columns]"
            ]
          },
          "metadata": {
            "tags": []
          },
          "execution_count": 3
        }
      ]
    },
    {
      "cell_type": "code",
      "metadata": {
        "id": "9MiiIR6Vd_rd",
        "colab_type": "code",
        "colab": {}
      },
      "source": [
        "rating = pd.read_csv(\"./database/ratings.csv\")\n",
        "# rating.head()\n",
        "# rating.shape\n",
        "# len(rating)\n",
        "# rating.describe()\n",
        "# rating.query(\"movieId==1\")[\"rating\"].mean()\n",
        "# rating.columns = [\"user\", \"movie\", \"rating\", \"timestamp\"]\n",
        "# rating.describe()\n",
        "\n",
        "# grade_by_average = rating.groupby(\"movie\")[\"rating\"].mean()\n",
        "\n",
        "# rating.describe\n",
        "# movies.head()\n",
        "\n",
        "import matplotlib.pyplot as plt\n",
        "\n",
        "# name_movie = movies.query(\"movieId==1\")[\"title\"]\n",
        "# print (name_movie)\n",
        "\n",
        "# qttMoviesNor = len(movies)\n",
        "# qttMoviesRat = len(rating)\n",
        "# moviesNoRat = \n",
        "\n",
        "# for y in range (rating.size):\n",
        "#   if rating.query(\"movieId==\"+str(y))[\"rating\"].isNull():\n",
        "#     print(rating.query(\"movieId==\"+str(y))[\"movieId\"])\n",
        "#     # moviesNoRat.add(rating.query(\"movie==\"+str(y))[\"movie\"])\n",
        "#     break\n",
        "\n",
        "\n",
        "\n",
        "\n",
        "\n",
        "# rating.query(\"movie==1\")[\"rating\"].plot(kind=\"hist\", title=\"Rating of \"+name_movie)\n",
        "# plt.title(\"Rating of \"+movies.query(\"movieId==1\")[\"title\"])\n",
        "# plt.show()\n",
        "\n",
        "\n"
      ],
      "execution_count": 0,
      "outputs": []
    },
    {
      "cell_type": "markdown",
      "metadata": {
        "id": "SjX91-11Lz9d",
        "colab_type": "text"
      },
      "source": [
        "Todos os Desafios da Aula 01 abaixo:"
      ]
    },
    {
      "cell_type": "code",
      "metadata": {
        "id": "3rOaqISV7Pcv",
        "colab_type": "code",
        "outputId": "30d83f8d-e8ed-492e-ccfd-f73fdc2a2d5f",
        "colab": {
          "base_uri": "https://localhost:8080/",
          "height": 470
        }
      },
      "source": [
        "ratingAllMean = rating.groupby(\"movieId\")[\"rating\"].mean()\n",
        "movieWithMean = movies.join(ratingAllMean, on=\"movieId\")\n",
        "movieWithMean.head()\n",
        "\n",
        "#desafio 2\n",
        "movieWithMean.columns = [\"movieId\", \"title\", \"genres\", \"rating_mean\"] \n",
        "\n",
        "#desafio 1\n",
        "withoutRating = movieWithMean[\"rating_mean\"].isnull()\n",
        "movieWithMean[withoutRating].count()[\"title\"]\n",
        "\n",
        "#desafio 3\n",
        "ratingCount = rating.groupby(\"movieId\")[\"rating\"].count()\n",
        "ratingCount.head()\n",
        "\n",
        "movieWithMeanAndRating = movieWithMean.join(ratingCount, on=\"movieId\")\n",
        "movieWithMeanAndRating = movieWithMeanAndRating.rename(columns={\"rating\" : \"total_of_rating\"})\n",
        "# movieWithMeanAndRating.head()\n",
        "\n",
        "#desafio 4\n",
        "movieWithMeanAndRating[\"rating_mean\"] = movieWithMeanAndRating[\"rating_mean\"].round(2)\n",
        "movieWithMeanAndRating\n",
        "\n",
        "#desafio 5\n",
        "genresDf = movieWithMeanAndRating.genres.str.get_dummies(\"|\")\n",
        "genres = genresDf.columns.to_list()\n",
        "genres\n",
        "\n",
        "#desafio 6\n",
        "totalMoviesGenres = movieWithMeanAndRating.genres.str.get_dummies().sum()\n",
        "totalMoviesGenres\n",
        "\n",
        "#desafio 7\n",
        "totalMoviesGenres.sort_values(ascending=False).plot(kind='bar', figsize=(16, 6))\n",
        "\n"
      ],
      "execution_count": 5,
      "outputs": [
        {
          "output_type": "execute_result",
          "data": {
            "text/plain": [
              "<matplotlib.axes._subplots.AxesSubplot at 0x7f36650d4550>"
            ]
          },
          "metadata": {
            "tags": []
          },
          "execution_count": 5
        },
        {
          "output_type": "display_data",
          "data": {
            "image/png": "[encoded data removed]",
            "text/plain": [
              "<Figure size 1152x432 with 1 Axes>"
            ]
          },
          "metadata": {
            "tags": [],
            "needs_background": "light"
          }
        }
      ]
    },
    {
      "cell_type": "markdown",
      "metadata": {
        "id": "-meh6Yj_QXL6",
        "colab_type": "text"
      },
      "source": [
        "### Aula 02"
      ]
    },
    {
      "cell_type": "code",
      "metadata": {
        "id": "wUuFQ-cfQgGM",
        "colab_type": "code",
        "outputId": "82546b9d-8908-4883-865d-e1561ee8b900",
        "colab": {
          "base_uri": "https://localhost:8080/",
          "height": 473
        }
      },
      "source": [
        "import pandas as pd\n",
        "import matplotlib.pyplot as plt\n",
        "import seaborn as sns\n",
        "\n",
        "#read_csv return a dataframe, that is a structure of data for better visualization.\n",
        "movies = pd.read_csv(\"./database/movies.csv\")\n",
        "rating = pd.read_csv(\"./database/ratings.csv\")\n",
        "sns.set_style(\"whitegrid\")\n",
        "\n",
        "#Get all genres of movies and sort in descrecent order.\n",
        "movies[\"genres\"].str.get_dummies(\"|\").sum().sort_values(ascending=False)\n",
        "#Testing the method index of Series\n",
        "movies[\"genres\"].str.get_dummies(\"|\").sum().sort_values(ascending=True).index\n",
        "#Testing pie graphic and size\n",
        "#movies[\"genres\"].str.get_dummies(\"|\").sum().sort_values(ascending=False).plot(kind=\"pie\",  figsize=(8,8), title=\"Filmes Genres\")\n",
        "\n",
        "#The bar plot of pandas have the better way to show graphics for us use\n",
        "# movies[\"genres\"].str.get_dummies(\"|\").sum().sort_values(ascending=False).plot(kind=\"bar\",  figsize=(8,8), title=\"Filmes Genres\")\n",
        "\n",
        "plt.figure(figsize=(16,8))\n",
        "moviesGenres = movies[\"genres\"].str.get_dummies(\"|\").sum().sort_values(ascending=False);\n",
        "\n",
        "sns.barplot(x=moviesGenres.index, \n",
        "            y=moviesGenres.values,\n",
        "            palette=sns.color_palette(\"BuGn_r\", n_colors=len(moviesGenres) +10))\n",
        "\n",
        "plt.show()\n",
        "\n"
      ],
      "execution_count": 0,
      "outputs": [
        {
          "output_type": "display_data",
          "data": {
            "image/png": "[encoded data removed]",
            "text/plain": [
              "<Figure size 1152x576 with 1 Axes>"
            ]
          },
          "metadata": {
            "tags": []
          }
        }
      ]
    },
    {
      "cell_type": "code",
      "metadata": {
        "id": "2vMCRIOVlqH0",
        "colab_type": "code",
        "colab": {
          "base_uri": "https://localhost:8080/",
          "height": 430
        },
        "outputId": "d327d850-8eec-4c0a-a16d-e0cf810b24bc"
      },
      "source": [
        "# moviesWithMean = movies.join()\n",
        "movieWithMean.sort_values(\"rating_mean\", ascending=False)[2450:2500]\n",
        "\n",
        "\n",
        "def plot_movie(n):\n",
        "  ratingMovie = rating.query(f\"movieId=={n}\")[\"rating\"]\n",
        "  ratingMovie.plot(kind=\"hist\")\n",
        "  return ratingMovie.describe()\n",
        "\n",
        "plot_movie(999)"
      ],
      "execution_count": 17,
      "outputs": [
        {
          "output_type": "execute_result",
          "data": {
            "text/plain": [
              "count    12.000000\n",
              "mean      3.041667\n",
              "std       0.752521\n",
              "min       2.000000\n",
              "25%       2.750000\n",
              "50%       3.000000\n",
              "75%       3.625000\n",
              "max       4.000000\n",
              "Name: rating, dtype: float64"
            ]
          },
          "metadata": {
            "tags": []
          },
          "execution_count": 17
        },
        {
          "output_type": "display_data",
          "data": {
            "image/png": "[encoded data removed]",
            "text/plain": [
              "<Figure size 432x288 with 1 Axes>"
            ]
          },
          "metadata": {
            "tags": [],
            "needs_background": "light"
          }
        }
      ]
    },
    {
      "cell_type": "markdown",
      "metadata": {
        "id": "nvCaQ1PJJT_L",
        "colab_type": "text"
      },
      "source": [
        "###Aula 03\n"
      ]
    },
    {
      "cell_type": "code",
      "metadata": {
        "id": "2Pgs9bq-JZQq",
        "colab_type": "code",
        "colab": {}
      },
      "source": [
        ""
      ],
      "execution_count": 0,
      "outputs": []
    }
  ]
}